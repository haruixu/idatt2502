{
 "cells": [
  {
   "cell_type": "code",
   "execution_count": 2,
   "metadata": {
    "jukit_cell_id": "R1CldXkhGc"
   },
   "outputs": [],
   "source": [
    "import numpy as np\n",
    "import pandas as pd\n",
    "from sklearn.feature_selection import SelectKBest\n",
    "from sklearn.feature_selection import chi2"
   ]
  },
  {
   "cell_type": "markdown",
   "metadata": {
    "jukit_cell_id": "YEJIAnIE3R"
   },
   "source": [
    "# Exercise 6\n",
    "\n",
    "For this exercise you can use either Python with sklearn or Weka.\n",
    "\n",
    "* Using the UCI mushroom dataset from the last exercise, perform a feature\n",
    "selection using a classifier evaluator. Which features are most discriminitave?\n",
    "\n",
    "* Use principal components analysis to construct a reduced space.\n",
    "Which combination of features explain the most variance in the dataset?\n",
    "\n",
    "* Do you see any overlap between the PCA features\n",
    "and those obtained from feature selection?"
   ]
  },
  {
   "cell_type": "code",
   "execution_count": 143,
   "metadata": {
    "jukit_cell_id": "7ew9k3J1dx"
   },
   "outputs": [
    {
     "name": "stdout",
     "output_type": "stream",
     "text": [
      "X-shape:  (8124, 117)\n",
      "X_new-shape:  (8124, 5)\n",
      "Selected column indices:  [24 27 37 57 61]\n",
      "Selected features:  odor_a, odor_l, gill-size_b, stalk-root_r, stalk-surface-above-ring_y\n"
     ]
    }
   ],
   "source": [
    "df = pd.read_csv('agaricus-lepiota.csv')\n",
    "df\n",
    "\n",
    "df_dummies = pd.get_dummies(df).astype(float)\n",
    "\n",
    "# Want to determine edibility, so it cannot be in the X dataset\n",
    "X, y = df_dummies.drop(['edibility_e', 'edibility_p'], axis=1), df_dummies[['edibility_e', 'edibility_p']]\n",
    "print(\"X-shape: \", X.shape)\n",
    "\n",
    "skb = SelectKBest(chi2, k=5)\n",
    "skb.fit(X, y)\n",
    "X_new = skb.transform(X)\n",
    "print(\"X_new-shape: \",X_new.shape)\n",
    "\n",
    "# Encodes True to the selected features out of the total 118\n",
    "mask = skb.get_support(indices=True)\n",
    "print(\"Selected column indices: \", mask)\n",
    "\n",
    "selected_features = df_dummies.columns[mask]\n",
    "#print(\"Selected columns: \", selected_features)\n",
    "print(\"Selected features: \", \", \".join(selected_features.values)) # Joins on \", \""
   ]
  },
  {
   "cell_type": "code",
   "execution_count": 157,
   "metadata": {
    "jukit_cell_id": "N21Af1Z3Cy"
   },
   "outputs": [
    {
     "name": "stdout",
     "output_type": "stream",
     "text": [
      "Highest variance:  ['ring-type_p', 'stalk-root_?']\n",
      "      cap-shape_b  cap-shape_c  cap-shape_f  cap-shape_k  cap-shape_s  \\\n",
      "PC-1     0.079834     0.001893    -0.013437    -0.085837     0.012201   \n",
      "PC-2     0.016743     0.008192    -0.041887     0.131896     0.001769   \n",
      "\n",
      "      cap-shape_x  cap-surface_f  cap-surface_g  cap-surface_s  cap-surface_y  \\\n",
      "PC-1     0.026957       0.032678       0.005794       0.017089      -0.046603   \n",
      "PC-2    -0.047485      -0.118133       0.005171       0.144960      -0.028729   \n",
      "\n",
      "      ...  population_s  population_v  population_y  habitat_d  habitat_g  \\\n",
      "PC-1  ...      0.114010     -0.150387      0.003753   0.020477   0.075409   \n",
      "PC-2  ...     -0.009443      0.083800     -0.149493  -0.049328  -0.064072   \n",
      "\n",
      "      habitat_l  habitat_m  habitat_p  habitat_u  habitat_w  \n",
      "PC-1  -0.080517   0.080901  -0.135526   0.044891   0.025837  \n",
      "PC-2   0.176586  -0.015291  -0.013922  -0.006366   0.051098  \n",
      "\n",
      "[2 rows x 117 columns]\n"
     ]
    }
   ],
   "source": [
    "from sklearn import decomposition\n",
    "from sklearn.decomposition import PCA\n",
    "\n",
    "# normalize data\n",
    "from sklearn import preprocessing\n",
    "data_scaled = pd.DataFrame(preprocessing.scale(X),columns = X.columns) \n",
    "\n",
    "# PCA\n",
    "# Common to reduce to 2D, probably because it is easy both to understand and to plot\n",
    "pca = PCA(n_components=2)\n",
    "x_pca = pca.fit_transform(data_scaled)\n",
    "\n",
    "best_features = [pca.components_[i].argmax() for i in range(x_pca.shape[1])]\n",
    "feature_names = [X.columns[best_features[i]] for i in range(x_pca.shape[1])]\n",
    "print(\"Highest variance: \", feature_names)\n",
    "\n",
    "# Dump components relations with features:\n",
    "print(pd.DataFrame(pca.components_,columns=data_scaled.columns,index = ['PC-1','PC-2']))"
   ]
  },
  {
   "cell_type": "markdown",
   "metadata": {
    "jukit_cell_id": "OzYjIDkM2k"
   },
   "source": [
    "* Do you see any overlap between the PCA features\n",
    "and those obtained from feature selection?"
   ]
  },
  {
   "cell_type": "code",
   "execution_count": 155,
   "metadata": {},
   "outputs": [
    {
     "data": {
      "text/plain": [
       "set()"
      ]
     },
     "execution_count": 155,
     "metadata": {},
     "output_type": "execute_result"
    }
   ],
   "source": [
    "set(selected_features).intersection(set(feature_names))"
   ]
  }
 ],
 "metadata": {
  "anaconda-cloud": {},
  "kernelspec": {
   "display_name": "Python 3 (ipykernel)",
   "language": "python",
   "name": "python3"
  },
  "language_info": {
   "codemirror_mode": {
    "name": "ipython",
    "version": 3
   },
   "file_extension": ".py",
   "mimetype": "text/x-python",
   "name": "python",
   "nbconvert_exporter": "python",
   "pygments_lexer": "ipython3",
   "version": "3.10.12"
  }
 },
 "nbformat": 4,
 "nbformat_minor": 4
}
